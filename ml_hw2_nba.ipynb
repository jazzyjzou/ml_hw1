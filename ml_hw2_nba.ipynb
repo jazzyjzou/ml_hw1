{
 "cells": [
  {
   "cell_type": "markdown",
   "metadata": {
    "_cell_guid": "7cdff3c6-5ab3-436f-b1c6-5487fbd2c5f1",
    "_execution_state": "idle",
    "_uuid": "bef5caed3a27080a1986405d97b1d5cebabc240b"
   },
   "source": [
    "Exploration of How Social Media Can Predict Winning Metrics Better Than Salary\n",
    "*Added a few more analysis in the end*"
   ]
  },
  {
   "cell_type": "code",
   "execution_count": 1,
   "metadata": {
    "_cell_guid": "cd3d25dd-7b26-4027-99f0-1b1a57871b4b",
    "_execution_state": "idle",
    "_uuid": "d2e772d31b3e5e2590ffe0fcd4bff03b5066eaf1"
   },
   "outputs": [
    {
     "name": "stderr",
     "output_type": "stream",
     "text": [
      "/opt/conda/lib/python3.6/site-packages/statsmodels/compat/pandas.py:56: FutureWarning: The pandas.core.datetools module is deprecated and will be removed in a future version. Please use the pandas.tseries module instead.\n",
      "  from pandas.core import datetools\n"
     ]
    },
    {
     "data": {
      "text/html": [
       "<style>.container { width:100% !important; }</style>"
      ],
      "text/plain": [
       "<IPython.core.display.HTML object>"
      ]
     },
     "metadata": {},
     "output_type": "display_data"
    }
   ],
   "source": [
    "import pandas as pd\n",
    "import statsmodels.api as sm\n",
    "import statsmodels.formula.api as smf\n",
    "import matplotlib.pyplot as plt\n",
    "import seaborn as sns\n",
    "from sklearn.cluster import KMeans\n",
    "color = sns.color_palette()\n",
    "from IPython.core.display import display, HTML\n",
    "display(HTML(\"<style>.container { width:100% !important; }</style>\"))\n",
    "%matplotlib inline"
   ]
  },
  {
   "cell_type": "code",
   "execution_count": 2,
   "metadata": {
    "_cell_guid": "145e76be-f046-40f6-9fd9-e4a4f3b037c6",
    "_execution_state": "idle",
    "_uuid": "b8124a26a90759e84ff8438da528db76625943fb"
   },
   "outputs": [
    {
     "data": {
      "text/html": [
       "<div>\n",
       "<style>\n",
       "    .dataframe thead tr:only-child th {\n",
       "        text-align: right;\n",
       "    }\n",
       "\n",
       "    .dataframe thead th {\n",
       "        text-align: left;\n",
       "    }\n",
       "\n",
       "    .dataframe tbody tr th {\n",
       "        vertical-align: top;\n",
       "    }\n",
       "</style>\n",
       "<table border=\"1\" class=\"dataframe\">\n",
       "  <thead>\n",
       "    <tr style=\"text-align: right;\">\n",
       "      <th></th>\n",
       "      <th>Unnamed: 0</th>\n",
       "      <th>TEAM</th>\n",
       "      <th>GMS</th>\n",
       "      <th>TOTAL</th>\n",
       "      <th>AVG</th>\n",
       "      <th>PCT</th>\n",
       "      <th>VALUE_MILLIONS</th>\n",
       "      <th>ELO</th>\n",
       "      <th>CONF</th>\n",
       "    </tr>\n",
       "  </thead>\n",
       "  <tbody>\n",
       "    <tr>\n",
       "      <th>0</th>\n",
       "      <td>0</td>\n",
       "      <td>Chicago Bulls</td>\n",
       "      <td>41</td>\n",
       "      <td>888882</td>\n",
       "      <td>21680</td>\n",
       "      <td>103.6</td>\n",
       "      <td>2500.0</td>\n",
       "      <td>1519</td>\n",
       "      <td>East</td>\n",
       "    </tr>\n",
       "    <tr>\n",
       "      <th>1</th>\n",
       "      <td>1</td>\n",
       "      <td>Dallas Mavericks</td>\n",
       "      <td>41</td>\n",
       "      <td>811366</td>\n",
       "      <td>19789</td>\n",
       "      <td>103.1</td>\n",
       "      <td>1450.0</td>\n",
       "      <td>1420</td>\n",
       "      <td>West</td>\n",
       "    </tr>\n",
       "    <tr>\n",
       "      <th>2</th>\n",
       "      <td>2</td>\n",
       "      <td>Sacramento Kings</td>\n",
       "      <td>41</td>\n",
       "      <td>721928</td>\n",
       "      <td>17608</td>\n",
       "      <td>100.6</td>\n",
       "      <td>1075.0</td>\n",
       "      <td>1393</td>\n",
       "      <td>West</td>\n",
       "    </tr>\n",
       "    <tr>\n",
       "      <th>3</th>\n",
       "      <td>3</td>\n",
       "      <td>Miami Heat</td>\n",
       "      <td>41</td>\n",
       "      <td>805400</td>\n",
       "      <td>19643</td>\n",
       "      <td>100.2</td>\n",
       "      <td>1350.0</td>\n",
       "      <td>1569</td>\n",
       "      <td>East</td>\n",
       "    </tr>\n",
       "    <tr>\n",
       "      <th>4</th>\n",
       "      <td>4</td>\n",
       "      <td>Toronto Raptors</td>\n",
       "      <td>41</td>\n",
       "      <td>813050</td>\n",
       "      <td>19830</td>\n",
       "      <td>100.2</td>\n",
       "      <td>1125.0</td>\n",
       "      <td>1600</td>\n",
       "      <td>East</td>\n",
       "    </tr>\n",
       "  </tbody>\n",
       "</table>\n",
       "</div>"
      ],
      "text/plain": [
       "   Unnamed: 0              TEAM  GMS   TOTAL    AVG    PCT  VALUE_MILLIONS  \\\n",
       "0           0     Chicago Bulls   41  888882  21680  103.6          2500.0   \n",
       "1           1  Dallas Mavericks   41  811366  19789  103.1          1450.0   \n",
       "2           2  Sacramento Kings   41  721928  17608  100.6          1075.0   \n",
       "3           3        Miami Heat   41  805400  19643  100.2          1350.0   \n",
       "4           4   Toronto Raptors   41  813050  19830  100.2          1125.0   \n",
       "\n",
       "    ELO  CONF  \n",
       "0  1519  East  \n",
       "1  1420  West  \n",
       "2  1393  West  \n",
       "3  1569  East  \n",
       "4  1600  East  "
      ]
     },
     "execution_count": 2,
     "metadata": {},
     "output_type": "execute_result"
    }
   ],
   "source": [
    "attendance_valuation_elo_df = pd.read_csv(\"../input/nba_2017_att_val_elo.csv\");attendance_valuation_elo_df.head()"
   ]
  },
  {
   "cell_type": "code",
   "execution_count": 3,
   "metadata": {
    "_cell_guid": "1a588c3a-95ba-4ed1-b43d-4ba9f7f2e933",
    "_execution_state": "idle",
    "_uuid": "0971e725f7d30ab4129031cacb580fbb745f6bda"
   },
   "outputs": [
    {
     "data": {
      "text/html": [
       "<div>\n",
       "<style>\n",
       "    .dataframe thead tr:only-child th {\n",
       "        text-align: right;\n",
       "    }\n",
       "\n",
       "    .dataframe thead th {\n",
       "        text-align: left;\n",
       "    }\n",
       "\n",
       "    .dataframe tbody tr th {\n",
       "        vertical-align: top;\n",
       "    }\n",
       "</style>\n",
       "<table border=\"1\" class=\"dataframe\">\n",
       "  <thead>\n",
       "    <tr style=\"text-align: right;\">\n",
       "      <th></th>\n",
       "      <th>NAME</th>\n",
       "      <th>POSITION</th>\n",
       "      <th>TEAM</th>\n",
       "      <th>SALARY</th>\n",
       "    </tr>\n",
       "  </thead>\n",
       "  <tbody>\n",
       "    <tr>\n",
       "      <th>0</th>\n",
       "      <td>LeBron James</td>\n",
       "      <td>SF</td>\n",
       "      <td>Cleveland Cavaliers</td>\n",
       "      <td>30963450.0</td>\n",
       "    </tr>\n",
       "    <tr>\n",
       "      <th>1</th>\n",
       "      <td>Mike Conley</td>\n",
       "      <td>PG</td>\n",
       "      <td>Memphis Grizzlies</td>\n",
       "      <td>26540100.0</td>\n",
       "    </tr>\n",
       "    <tr>\n",
       "      <th>2</th>\n",
       "      <td>Al Horford</td>\n",
       "      <td>C</td>\n",
       "      <td>Boston Celtics</td>\n",
       "      <td>26540100.0</td>\n",
       "    </tr>\n",
       "    <tr>\n",
       "      <th>3</th>\n",
       "      <td>Dirk Nowitzki</td>\n",
       "      <td>PF</td>\n",
       "      <td>Dallas Mavericks</td>\n",
       "      <td>25000000.0</td>\n",
       "    </tr>\n",
       "    <tr>\n",
       "      <th>4</th>\n",
       "      <td>Carmelo Anthony</td>\n",
       "      <td>SF</td>\n",
       "      <td>New York Knicks</td>\n",
       "      <td>24559380.0</td>\n",
       "    </tr>\n",
       "  </tbody>\n",
       "</table>\n",
       "</div>"
      ],
      "text/plain": [
       "              NAME POSITION                 TEAM      SALARY\n",
       "0     LeBron James       SF  Cleveland Cavaliers  30963450.0\n",
       "1      Mike Conley       PG    Memphis Grizzlies  26540100.0\n",
       "2       Al Horford        C       Boston Celtics  26540100.0\n",
       "3    Dirk Nowitzki       PF     Dallas Mavericks  25000000.0\n",
       "4  Carmelo Anthony       SF      New York Knicks  24559380.0"
      ]
     },
     "execution_count": 3,
     "metadata": {},
     "output_type": "execute_result"
    }
   ],
   "source": [
    "salary_df = pd.read_csv(\"../input/nba_2017_salary.csv\");salary_df.head()\n"
   ]
  },
  {
   "cell_type": "code",
   "execution_count": 4,
   "metadata": {
    "_cell_guid": "d6f18831-771f-4f3d-ade2-c79b119fc4dc",
    "_execution_state": "idle",
    "_uuid": "66be1d941240fa990df9b054e33d88f84d77a324"
   },
   "outputs": [
    {
     "data": {
      "text/html": [
       "<div>\n",
       "<style>\n",
       "    .dataframe thead tr:only-child th {\n",
       "        text-align: right;\n",
       "    }\n",
       "\n",
       "    .dataframe thead th {\n",
       "        text-align: left;\n",
       "    }\n",
       "\n",
       "    .dataframe tbody tr th {\n",
       "        vertical-align: top;\n",
       "    }\n",
       "</style>\n",
       "<table border=\"1\" class=\"dataframe\">\n",
       "  <thead>\n",
       "    <tr style=\"text-align: right;\">\n",
       "      <th></th>\n",
       "      <th>PLAYER</th>\n",
       "      <th>TEAM</th>\n",
       "      <th>AGE</th>\n",
       "      <th>GP</th>\n",
       "      <th>W</th>\n",
       "      <th>L</th>\n",
       "      <th>MIN</th>\n",
       "      <th>OFFRTG</th>\n",
       "      <th>DEFRTG</th>\n",
       "      <th>NETRTG</th>\n",
       "      <th>...</th>\n",
       "      <th>AST RATIO</th>\n",
       "      <th>OREB%</th>\n",
       "      <th>DREB%</th>\n",
       "      <th>REB%</th>\n",
       "      <th>TO RATIO</th>\n",
       "      <th>EFG%</th>\n",
       "      <th>TS%</th>\n",
       "      <th>USG%</th>\n",
       "      <th>PACE</th>\n",
       "      <th>PIE</th>\n",
       "    </tr>\n",
       "  </thead>\n",
       "  <tbody>\n",
       "    <tr>\n",
       "      <th>0</th>\n",
       "      <td>Russell Westbrook</td>\n",
       "      <td>OKC</td>\n",
       "      <td>28</td>\n",
       "      <td>81</td>\n",
       "      <td>46</td>\n",
       "      <td>35</td>\n",
       "      <td>34.6</td>\n",
       "      <td>107.9</td>\n",
       "      <td>104.6</td>\n",
       "      <td>3.3</td>\n",
       "      <td>...</td>\n",
       "      <td>23.4</td>\n",
       "      <td>5.3</td>\n",
       "      <td>27.9</td>\n",
       "      <td>16.7</td>\n",
       "      <td>12.2</td>\n",
       "      <td>47.6</td>\n",
       "      <td>55.4</td>\n",
       "      <td>40.8</td>\n",
       "      <td>102.31</td>\n",
       "      <td>23.0</td>\n",
       "    </tr>\n",
       "    <tr>\n",
       "      <th>1</th>\n",
       "      <td>Boban Marjanovic</td>\n",
       "      <td>DET</td>\n",
       "      <td>28</td>\n",
       "      <td>35</td>\n",
       "      <td>16</td>\n",
       "      <td>19</td>\n",
       "      <td>8.4</td>\n",
       "      <td>104.3</td>\n",
       "      <td>102.4</td>\n",
       "      <td>1.9</td>\n",
       "      <td>...</td>\n",
       "      <td>5.1</td>\n",
       "      <td>16.6</td>\n",
       "      <td>31.3</td>\n",
       "      <td>23.9</td>\n",
       "      <td>5.7</td>\n",
       "      <td>54.5</td>\n",
       "      <td>60.6</td>\n",
       "      <td>24.8</td>\n",
       "      <td>97.20</td>\n",
       "      <td>19.6</td>\n",
       "    </tr>\n",
       "    <tr>\n",
       "      <th>2</th>\n",
       "      <td>Demetrius Jackson</td>\n",
       "      <td>BOS</td>\n",
       "      <td>22</td>\n",
       "      <td>5</td>\n",
       "      <td>1</td>\n",
       "      <td>4</td>\n",
       "      <td>3.4</td>\n",
       "      <td>124.2</td>\n",
       "      <td>117.8</td>\n",
       "      <td>6.3</td>\n",
       "      <td>...</td>\n",
       "      <td>31.1</td>\n",
       "      <td>9.1</td>\n",
       "      <td>11.8</td>\n",
       "      <td>10.3</td>\n",
       "      <td>0.0</td>\n",
       "      <td>87.5</td>\n",
       "      <td>75.3</td>\n",
       "      <td>17.2</td>\n",
       "      <td>87.46</td>\n",
       "      <td>19.4</td>\n",
       "    </tr>\n",
       "    <tr>\n",
       "      <th>3</th>\n",
       "      <td>Anthony Davis</td>\n",
       "      <td>NOP</td>\n",
       "      <td>24</td>\n",
       "      <td>75</td>\n",
       "      <td>31</td>\n",
       "      <td>44</td>\n",
       "      <td>36.1</td>\n",
       "      <td>104.2</td>\n",
       "      <td>102.5</td>\n",
       "      <td>1.7</td>\n",
       "      <td>...</td>\n",
       "      <td>7.3</td>\n",
       "      <td>6.7</td>\n",
       "      <td>26.9</td>\n",
       "      <td>17.0</td>\n",
       "      <td>8.4</td>\n",
       "      <td>51.8</td>\n",
       "      <td>58.0</td>\n",
       "      <td>32.6</td>\n",
       "      <td>100.19</td>\n",
       "      <td>19.2</td>\n",
       "    </tr>\n",
       "    <tr>\n",
       "      <th>4</th>\n",
       "      <td>James Harden</td>\n",
       "      <td>HOU</td>\n",
       "      <td>27</td>\n",
       "      <td>81</td>\n",
       "      <td>54</td>\n",
       "      <td>27</td>\n",
       "      <td>36.4</td>\n",
       "      <td>113.6</td>\n",
       "      <td>107.3</td>\n",
       "      <td>6.3</td>\n",
       "      <td>...</td>\n",
       "      <td>27.6</td>\n",
       "      <td>3.5</td>\n",
       "      <td>21.2</td>\n",
       "      <td>12.3</td>\n",
       "      <td>14.1</td>\n",
       "      <td>52.5</td>\n",
       "      <td>61.3</td>\n",
       "      <td>34.1</td>\n",
       "      <td>102.98</td>\n",
       "      <td>19.0</td>\n",
       "    </tr>\n",
       "  </tbody>\n",
       "</table>\n",
       "<p>5 rows × 22 columns</p>\n",
       "</div>"
      ],
      "text/plain": [
       "              PLAYER TEAM  AGE  GP   W   L   MIN  OFFRTG  DEFRTG  NETRTG  \\\n",
       "0  Russell Westbrook  OKC   28  81  46  35  34.6   107.9   104.6     3.3   \n",
       "1   Boban Marjanovic  DET   28  35  16  19   8.4   104.3   102.4     1.9   \n",
       "2  Demetrius Jackson  BOS   22   5   1   4   3.4   124.2   117.8     6.3   \n",
       "3      Anthony Davis  NOP   24  75  31  44  36.1   104.2   102.5     1.7   \n",
       "4       James Harden  HOU   27  81  54  27  36.4   113.6   107.3     6.3   \n",
       "\n",
       "   ...   AST RATIO  OREB%  DREB%  REB%  TO RATIO  EFG%   TS%  USG%    PACE  \\\n",
       "0  ...        23.4    5.3   27.9  16.7      12.2  47.6  55.4  40.8  102.31   \n",
       "1  ...         5.1   16.6   31.3  23.9       5.7  54.5  60.6  24.8   97.20   \n",
       "2  ...        31.1    9.1   11.8  10.3       0.0  87.5  75.3  17.2   87.46   \n",
       "3  ...         7.3    6.7   26.9  17.0       8.4  51.8  58.0  32.6  100.19   \n",
       "4  ...        27.6    3.5   21.2  12.3      14.1  52.5  61.3  34.1  102.98   \n",
       "\n",
       "    PIE  \n",
       "0  23.0  \n",
       "1  19.6  \n",
       "2  19.4  \n",
       "3  19.2  \n",
       "4  19.0  \n",
       "\n",
       "[5 rows x 22 columns]"
      ]
     },
     "execution_count": 4,
     "metadata": {},
     "output_type": "execute_result"
    }
   ],
   "source": [
    "pie_df = pd.read_csv(\"../input/nba_2017_pie.csv\");pie_df.head()"
   ]
  },
  {
   "cell_type": "code",
   "execution_count": 5,
   "metadata": {
    "_cell_guid": "15950092-93a9-4d11-a74c-5f1f78965e48",
    "_execution_state": "idle",
    "_uuid": "16654f89549539568018e54e884d2025ddb1465b"
   },
   "outputs": [
    {
     "data": {
      "text/html": [
       "<div>\n",
       "<style>\n",
       "    .dataframe thead tr:only-child th {\n",
       "        text-align: right;\n",
       "    }\n",
       "\n",
       "    .dataframe thead th {\n",
       "        text-align: left;\n",
       "    }\n",
       "\n",
       "    .dataframe tbody tr th {\n",
       "        vertical-align: top;\n",
       "    }\n",
       "</style>\n",
       "<table border=\"1\" class=\"dataframe\">\n",
       "  <thead>\n",
       "    <tr style=\"text-align: right;\">\n",
       "      <th></th>\n",
       "      <th>NAME</th>\n",
       "      <th>TEAM</th>\n",
       "      <th>GP</th>\n",
       "      <th>MPG</th>\n",
       "      <th>ORPM</th>\n",
       "      <th>DRPM</th>\n",
       "      <th>RPM</th>\n",
       "      <th>WINS</th>\n",
       "    </tr>\n",
       "  </thead>\n",
       "  <tbody>\n",
       "    <tr>\n",
       "      <th>0</th>\n",
       "      <td>LeBron James, SF</td>\n",
       "      <td>CLE</td>\n",
       "      <td>74</td>\n",
       "      <td>37.8</td>\n",
       "      <td>6.49</td>\n",
       "      <td>1.93</td>\n",
       "      <td>8.42</td>\n",
       "      <td>20.43</td>\n",
       "    </tr>\n",
       "    <tr>\n",
       "      <th>1</th>\n",
       "      <td>Stephen Curry, PG</td>\n",
       "      <td>GS</td>\n",
       "      <td>79</td>\n",
       "      <td>33.4</td>\n",
       "      <td>7.27</td>\n",
       "      <td>0.14</td>\n",
       "      <td>7.41</td>\n",
       "      <td>18.80</td>\n",
       "    </tr>\n",
       "    <tr>\n",
       "      <th>2</th>\n",
       "      <td>Jimmy Butler, SG</td>\n",
       "      <td>CHI</td>\n",
       "      <td>76</td>\n",
       "      <td>37.0</td>\n",
       "      <td>4.82</td>\n",
       "      <td>1.80</td>\n",
       "      <td>6.62</td>\n",
       "      <td>17.35</td>\n",
       "    </tr>\n",
       "    <tr>\n",
       "      <th>3</th>\n",
       "      <td>Russell Westbrook, PG</td>\n",
       "      <td>OKC</td>\n",
       "      <td>81</td>\n",
       "      <td>34.6</td>\n",
       "      <td>6.74</td>\n",
       "      <td>-0.47</td>\n",
       "      <td>6.27</td>\n",
       "      <td>17.34</td>\n",
       "    </tr>\n",
       "    <tr>\n",
       "      <th>4</th>\n",
       "      <td>Draymond Green, PF</td>\n",
       "      <td>GS</td>\n",
       "      <td>76</td>\n",
       "      <td>32.5</td>\n",
       "      <td>1.55</td>\n",
       "      <td>5.59</td>\n",
       "      <td>7.14</td>\n",
       "      <td>16.84</td>\n",
       "    </tr>\n",
       "  </tbody>\n",
       "</table>\n",
       "</div>"
      ],
      "text/plain": [
       "                    NAME TEAM  GP   MPG  ORPM  DRPM   RPM   WINS\n",
       "0       LeBron James, SF  CLE  74  37.8  6.49  1.93  8.42  20.43\n",
       "1      Stephen Curry, PG   GS  79  33.4  7.27  0.14  7.41  18.80\n",
       "2       Jimmy Butler, SG  CHI  76  37.0  4.82  1.80  6.62  17.35\n",
       "3  Russell Westbrook, PG  OKC  81  34.6  6.74 -0.47  6.27  17.34\n",
       "4     Draymond Green, PF   GS  76  32.5  1.55  5.59  7.14  16.84"
      ]
     },
     "execution_count": 5,
     "metadata": {},
     "output_type": "execute_result"
    }
   ],
   "source": [
    "plus_minus_df = pd.read_csv(\"../input/nba_2017_real_plus_minus.csv\");plus_minus_df.head()"
   ]
  },
  {
   "cell_type": "code",
   "execution_count": 6,
   "metadata": {
    "_cell_guid": "b2be59f3-61e5-4618-add6-36345dd46305",
    "_execution_state": "idle",
    "_uuid": "b625e2f1f0cb6e07ae15e5dcf707b13774506d32"
   },
   "outputs": [
    {
     "data": {
      "text/html": [
       "<div>\n",
       "<style>\n",
       "    .dataframe thead tr:only-child th {\n",
       "        text-align: right;\n",
       "    }\n",
       "\n",
       "    .dataframe thead th {\n",
       "        text-align: left;\n",
       "    }\n",
       "\n",
       "    .dataframe tbody tr th {\n",
       "        vertical-align: top;\n",
       "    }\n",
       "</style>\n",
       "<table border=\"1\" class=\"dataframe\">\n",
       "  <thead>\n",
       "    <tr style=\"text-align: right;\">\n",
       "      <th></th>\n",
       "      <th>Rk</th>\n",
       "      <th>Player</th>\n",
       "      <th>Pos</th>\n",
       "      <th>Age</th>\n",
       "      <th>Tm</th>\n",
       "      <th>G</th>\n",
       "      <th>GS</th>\n",
       "      <th>MP</th>\n",
       "      <th>FG</th>\n",
       "      <th>FGA</th>\n",
       "      <th>...</th>\n",
       "      <th>FT%</th>\n",
       "      <th>ORB</th>\n",
       "      <th>DRB</th>\n",
       "      <th>TRB</th>\n",
       "      <th>AST</th>\n",
       "      <th>STL</th>\n",
       "      <th>BLK</th>\n",
       "      <th>TOV</th>\n",
       "      <th>PF</th>\n",
       "      <th>PS/G</th>\n",
       "    </tr>\n",
       "  </thead>\n",
       "  <tbody>\n",
       "    <tr>\n",
       "      <th>0</th>\n",
       "      <td>1</td>\n",
       "      <td>Russell Westbrook</td>\n",
       "      <td>PG</td>\n",
       "      <td>28</td>\n",
       "      <td>OKC</td>\n",
       "      <td>81</td>\n",
       "      <td>81</td>\n",
       "      <td>34.6</td>\n",
       "      <td>10.2</td>\n",
       "      <td>24.0</td>\n",
       "      <td>...</td>\n",
       "      <td>0.845</td>\n",
       "      <td>1.7</td>\n",
       "      <td>9.0</td>\n",
       "      <td>10.7</td>\n",
       "      <td>10.4</td>\n",
       "      <td>1.6</td>\n",
       "      <td>0.4</td>\n",
       "      <td>5.4</td>\n",
       "      <td>2.3</td>\n",
       "      <td>31.6</td>\n",
       "    </tr>\n",
       "    <tr>\n",
       "      <th>1</th>\n",
       "      <td>2</td>\n",
       "      <td>James Harden</td>\n",
       "      <td>PG</td>\n",
       "      <td>27</td>\n",
       "      <td>HOU</td>\n",
       "      <td>81</td>\n",
       "      <td>81</td>\n",
       "      <td>36.4</td>\n",
       "      <td>8.3</td>\n",
       "      <td>18.9</td>\n",
       "      <td>...</td>\n",
       "      <td>0.847</td>\n",
       "      <td>1.2</td>\n",
       "      <td>7.0</td>\n",
       "      <td>8.1</td>\n",
       "      <td>11.2</td>\n",
       "      <td>1.5</td>\n",
       "      <td>0.5</td>\n",
       "      <td>5.7</td>\n",
       "      <td>2.7</td>\n",
       "      <td>29.1</td>\n",
       "    </tr>\n",
       "    <tr>\n",
       "      <th>2</th>\n",
       "      <td>3</td>\n",
       "      <td>Isaiah Thomas</td>\n",
       "      <td>PG</td>\n",
       "      <td>27</td>\n",
       "      <td>BOS</td>\n",
       "      <td>76</td>\n",
       "      <td>76</td>\n",
       "      <td>33.8</td>\n",
       "      <td>9.0</td>\n",
       "      <td>19.4</td>\n",
       "      <td>...</td>\n",
       "      <td>0.909</td>\n",
       "      <td>0.6</td>\n",
       "      <td>2.1</td>\n",
       "      <td>2.7</td>\n",
       "      <td>5.9</td>\n",
       "      <td>0.9</td>\n",
       "      <td>0.2</td>\n",
       "      <td>2.8</td>\n",
       "      <td>2.2</td>\n",
       "      <td>28.9</td>\n",
       "    </tr>\n",
       "    <tr>\n",
       "      <th>3</th>\n",
       "      <td>4</td>\n",
       "      <td>Anthony Davis</td>\n",
       "      <td>C</td>\n",
       "      <td>23</td>\n",
       "      <td>NOP</td>\n",
       "      <td>75</td>\n",
       "      <td>75</td>\n",
       "      <td>36.1</td>\n",
       "      <td>10.3</td>\n",
       "      <td>20.3</td>\n",
       "      <td>...</td>\n",
       "      <td>0.802</td>\n",
       "      <td>2.3</td>\n",
       "      <td>9.5</td>\n",
       "      <td>11.8</td>\n",
       "      <td>2.1</td>\n",
       "      <td>1.3</td>\n",
       "      <td>2.2</td>\n",
       "      <td>2.4</td>\n",
       "      <td>2.2</td>\n",
       "      <td>28.0</td>\n",
       "    </tr>\n",
       "    <tr>\n",
       "      <th>4</th>\n",
       "      <td>5</td>\n",
       "      <td>DeMar DeRozan</td>\n",
       "      <td>SG</td>\n",
       "      <td>27</td>\n",
       "      <td>TOR</td>\n",
       "      <td>74</td>\n",
       "      <td>74</td>\n",
       "      <td>35.4</td>\n",
       "      <td>9.7</td>\n",
       "      <td>20.9</td>\n",
       "      <td>...</td>\n",
       "      <td>0.842</td>\n",
       "      <td>0.9</td>\n",
       "      <td>4.3</td>\n",
       "      <td>5.2</td>\n",
       "      <td>3.9</td>\n",
       "      <td>1.1</td>\n",
       "      <td>0.2</td>\n",
       "      <td>2.4</td>\n",
       "      <td>1.8</td>\n",
       "      <td>27.3</td>\n",
       "    </tr>\n",
       "  </tbody>\n",
       "</table>\n",
       "<p>5 rows × 30 columns</p>\n",
       "</div>"
      ],
      "text/plain": [
       "   Rk             Player Pos  Age   Tm   G  GS    MP    FG   FGA  ...     FT%  \\\n",
       "0   1  Russell Westbrook  PG   28  OKC  81  81  34.6  10.2  24.0  ...   0.845   \n",
       "1   2       James Harden  PG   27  HOU  81  81  36.4   8.3  18.9  ...   0.847   \n",
       "2   3      Isaiah Thomas  PG   27  BOS  76  76  33.8   9.0  19.4  ...   0.909   \n",
       "3   4      Anthony Davis   C   23  NOP  75  75  36.1  10.3  20.3  ...   0.802   \n",
       "4   5      DeMar DeRozan  SG   27  TOR  74  74  35.4   9.7  20.9  ...   0.842   \n",
       "\n",
       "   ORB  DRB   TRB   AST  STL  BLK  TOV   PF  PS/G  \n",
       "0  1.7  9.0  10.7  10.4  1.6  0.4  5.4  2.3  31.6  \n",
       "1  1.2  7.0   8.1  11.2  1.5  0.5  5.7  2.7  29.1  \n",
       "2  0.6  2.1   2.7   5.9  0.9  0.2  2.8  2.2  28.9  \n",
       "3  2.3  9.5  11.8   2.1  1.3  2.2  2.4  2.2  28.0  \n",
       "4  0.9  4.3   5.2   3.9  1.1  0.2  2.4  1.8  27.3  \n",
       "\n",
       "[5 rows x 30 columns]"
      ]
     },
     "execution_count": 6,
     "metadata": {},
     "output_type": "execute_result"
    }
   ],
   "source": [
    "br_stats_df = pd.read_csv(\"../input/nba_2017_br.csv\");br_stats_df.head()"
   ]
  },
  {
   "cell_type": "code",
   "execution_count": 7,
   "metadata": {
    "_cell_guid": "916e9204-c8ae-46db-bd93-8cbbcd2189e3",
    "_execution_state": "idle",
    "_uuid": "1c86dea6bb3bb5f3c59dbc329eaddb7998a9b4f8"
   },
   "outputs": [
    {
     "data": {
      "text/html": [
       "<div>\n",
       "<style>\n",
       "    .dataframe thead tr:only-child th {\n",
       "        text-align: right;\n",
       "    }\n",
       "\n",
       "    .dataframe thead th {\n",
       "        text-align: left;\n",
       "    }\n",
       "\n",
       "    .dataframe tbody tr th {\n",
       "        vertical-align: top;\n",
       "    }\n",
       "</style>\n",
       "<table border=\"1\" class=\"dataframe\">\n",
       "  <thead>\n",
       "    <tr style=\"text-align: right;\">\n",
       "      <th></th>\n",
       "      <th>TEAM</th>\n",
       "      <th>GP</th>\n",
       "      <th>MPG</th>\n",
       "      <th>ORPM</th>\n",
       "      <th>DRPM</th>\n",
       "      <th>RPM</th>\n",
       "      <th>WINS_RPM</th>\n",
       "      <th>PLAYER</th>\n",
       "    </tr>\n",
       "  </thead>\n",
       "  <tbody>\n",
       "    <tr>\n",
       "      <th>0</th>\n",
       "      <td>CLE</td>\n",
       "      <td>74</td>\n",
       "      <td>37.8</td>\n",
       "      <td>6.49</td>\n",
       "      <td>1.93</td>\n",
       "      <td>8.42</td>\n",
       "      <td>20.43</td>\n",
       "      <td>LeBron James</td>\n",
       "    </tr>\n",
       "    <tr>\n",
       "      <th>1</th>\n",
       "      <td>GS</td>\n",
       "      <td>79</td>\n",
       "      <td>33.4</td>\n",
       "      <td>7.27</td>\n",
       "      <td>0.14</td>\n",
       "      <td>7.41</td>\n",
       "      <td>18.80</td>\n",
       "      <td>Stephen Curry</td>\n",
       "    </tr>\n",
       "    <tr>\n",
       "      <th>2</th>\n",
       "      <td>CHI</td>\n",
       "      <td>76</td>\n",
       "      <td>37.0</td>\n",
       "      <td>4.82</td>\n",
       "      <td>1.80</td>\n",
       "      <td>6.62</td>\n",
       "      <td>17.35</td>\n",
       "      <td>Jimmy Butler</td>\n",
       "    </tr>\n",
       "    <tr>\n",
       "      <th>3</th>\n",
       "      <td>OKC</td>\n",
       "      <td>81</td>\n",
       "      <td>34.6</td>\n",
       "      <td>6.74</td>\n",
       "      <td>-0.47</td>\n",
       "      <td>6.27</td>\n",
       "      <td>17.34</td>\n",
       "      <td>Russell Westbrook</td>\n",
       "    </tr>\n",
       "    <tr>\n",
       "      <th>4</th>\n",
       "      <td>GS</td>\n",
       "      <td>76</td>\n",
       "      <td>32.5</td>\n",
       "      <td>1.55</td>\n",
       "      <td>5.59</td>\n",
       "      <td>7.14</td>\n",
       "      <td>16.84</td>\n",
       "      <td>Draymond Green</td>\n",
       "    </tr>\n",
       "  </tbody>\n",
       "</table>\n",
       "</div>"
      ],
      "text/plain": [
       "  TEAM  GP   MPG  ORPM  DRPM   RPM  WINS_RPM             PLAYER\n",
       "0  CLE  74  37.8  6.49  1.93  8.42     20.43       LeBron James\n",
       "1   GS  79  33.4  7.27  0.14  7.41     18.80      Stephen Curry\n",
       "2  CHI  76  37.0  4.82  1.80  6.62     17.35       Jimmy Butler\n",
       "3  OKC  81  34.6  6.74 -0.47  6.27     17.34  Russell Westbrook\n",
       "4   GS  76  32.5  1.55  5.59  7.14     16.84     Draymond Green"
      ]
     },
     "execution_count": 7,
     "metadata": {},
     "output_type": "execute_result"
    }
   ],
   "source": [
    "\n",
    "plus_minus_df.rename(columns={\"NAME\":\"PLAYER\", \"WINS\": \"WINS_RPM\"}, inplace=True)\n",
    "players = []\n",
    "for player in plus_minus_df[\"PLAYER\"]:\n",
    "    plyr, _ = player.split(\",\")\n",
    "    players.append(plyr)\n",
    "plus_minus_df.drop([\"PLAYER\"], inplace=True, axis=1)\n",
    "plus_minus_df[\"PLAYER\"] = players\n",
    "plus_minus_df.head()"
   ]
  },
  {
   "cell_type": "code",
   "execution_count": 8,
   "metadata": {
    "_cell_guid": "59a4fa66-a792-4388-ae34-8b3ddfabb93a",
    "_execution_state": "idle",
    "_uuid": "f5e22b38e218af1188376d517287d67f4548ffb2"
   },
   "outputs": [
    {
     "data": {
      "text/html": [
       "<div>\n",
       "<style>\n",
       "    .dataframe thead tr:only-child th {\n",
       "        text-align: right;\n",
       "    }\n",
       "\n",
       "    .dataframe thead th {\n",
       "        text-align: left;\n",
       "    }\n",
       "\n",
       "    .dataframe tbody tr th {\n",
       "        vertical-align: top;\n",
       "    }\n",
       "</style>\n",
       "<table border=\"1\" class=\"dataframe\">\n",
       "  <thead>\n",
       "    <tr style=\"text-align: right;\">\n",
       "      <th></th>\n",
       "      <th>Rk</th>\n",
       "      <th>PLAYER</th>\n",
       "      <th>POSITION</th>\n",
       "      <th>AGE</th>\n",
       "      <th>MP</th>\n",
       "      <th>FG</th>\n",
       "      <th>FGA</th>\n",
       "      <th>FG%</th>\n",
       "      <th>3P</th>\n",
       "      <th>3PA</th>\n",
       "      <th>...</th>\n",
       "      <th>TOV</th>\n",
       "      <th>PF</th>\n",
       "      <th>POINTS</th>\n",
       "      <th>TEAM</th>\n",
       "      <th>GP</th>\n",
       "      <th>MPG</th>\n",
       "      <th>ORPM</th>\n",
       "      <th>DRPM</th>\n",
       "      <th>RPM</th>\n",
       "      <th>WINS_RPM</th>\n",
       "    </tr>\n",
       "  </thead>\n",
       "  <tbody>\n",
       "    <tr>\n",
       "      <th>0</th>\n",
       "      <td>1</td>\n",
       "      <td>Russell Westbrook</td>\n",
       "      <td>PG</td>\n",
       "      <td>28</td>\n",
       "      <td>34.6</td>\n",
       "      <td>10.2</td>\n",
       "      <td>24.0</td>\n",
       "      <td>0.425</td>\n",
       "      <td>2.5</td>\n",
       "      <td>7.2</td>\n",
       "      <td>...</td>\n",
       "      <td>5.4</td>\n",
       "      <td>2.3</td>\n",
       "      <td>31.6</td>\n",
       "      <td>OKC</td>\n",
       "      <td>81</td>\n",
       "      <td>34.6</td>\n",
       "      <td>6.74</td>\n",
       "      <td>-0.47</td>\n",
       "      <td>6.27</td>\n",
       "      <td>17.34</td>\n",
       "    </tr>\n",
       "    <tr>\n",
       "      <th>1</th>\n",
       "      <td>2</td>\n",
       "      <td>James Harden</td>\n",
       "      <td>PG</td>\n",
       "      <td>27</td>\n",
       "      <td>36.4</td>\n",
       "      <td>8.3</td>\n",
       "      <td>18.9</td>\n",
       "      <td>0.440</td>\n",
       "      <td>3.2</td>\n",
       "      <td>9.3</td>\n",
       "      <td>...</td>\n",
       "      <td>5.7</td>\n",
       "      <td>2.7</td>\n",
       "      <td>29.1</td>\n",
       "      <td>HOU</td>\n",
       "      <td>81</td>\n",
       "      <td>36.4</td>\n",
       "      <td>6.38</td>\n",
       "      <td>-1.57</td>\n",
       "      <td>4.81</td>\n",
       "      <td>15.54</td>\n",
       "    </tr>\n",
       "    <tr>\n",
       "      <th>2</th>\n",
       "      <td>3</td>\n",
       "      <td>Isaiah Thomas</td>\n",
       "      <td>PG</td>\n",
       "      <td>27</td>\n",
       "      <td>33.8</td>\n",
       "      <td>9.0</td>\n",
       "      <td>19.4</td>\n",
       "      <td>0.463</td>\n",
       "      <td>3.2</td>\n",
       "      <td>8.5</td>\n",
       "      <td>...</td>\n",
       "      <td>2.8</td>\n",
       "      <td>2.2</td>\n",
       "      <td>28.9</td>\n",
       "      <td>BOS</td>\n",
       "      <td>76</td>\n",
       "      <td>33.8</td>\n",
       "      <td>5.72</td>\n",
       "      <td>-3.89</td>\n",
       "      <td>1.83</td>\n",
       "      <td>8.19</td>\n",
       "    </tr>\n",
       "    <tr>\n",
       "      <th>3</th>\n",
       "      <td>4</td>\n",
       "      <td>Anthony Davis</td>\n",
       "      <td>C</td>\n",
       "      <td>23</td>\n",
       "      <td>36.1</td>\n",
       "      <td>10.3</td>\n",
       "      <td>20.3</td>\n",
       "      <td>0.505</td>\n",
       "      <td>0.5</td>\n",
       "      <td>1.8</td>\n",
       "      <td>...</td>\n",
       "      <td>2.4</td>\n",
       "      <td>2.2</td>\n",
       "      <td>28.0</td>\n",
       "      <td>NO</td>\n",
       "      <td>75</td>\n",
       "      <td>36.1</td>\n",
       "      <td>0.45</td>\n",
       "      <td>3.90</td>\n",
       "      <td>4.35</td>\n",
       "      <td>12.81</td>\n",
       "    </tr>\n",
       "    <tr>\n",
       "      <th>4</th>\n",
       "      <td>5</td>\n",
       "      <td>DeMar DeRozan</td>\n",
       "      <td>SG</td>\n",
       "      <td>27</td>\n",
       "      <td>35.4</td>\n",
       "      <td>9.7</td>\n",
       "      <td>20.9</td>\n",
       "      <td>0.467</td>\n",
       "      <td>0.4</td>\n",
       "      <td>1.7</td>\n",
       "      <td>...</td>\n",
       "      <td>2.4</td>\n",
       "      <td>1.8</td>\n",
       "      <td>27.3</td>\n",
       "      <td>TOR</td>\n",
       "      <td>74</td>\n",
       "      <td>35.4</td>\n",
       "      <td>2.21</td>\n",
       "      <td>-2.04</td>\n",
       "      <td>0.17</td>\n",
       "      <td>5.46</td>\n",
       "    </tr>\n",
       "  </tbody>\n",
       "</table>\n",
       "<p>5 rows × 34 columns</p>\n",
       "</div>"
      ],
      "text/plain": [
       "   Rk             PLAYER POSITION  AGE    MP    FG   FGA    FG%   3P  3PA  \\\n",
       "0   1  Russell Westbrook       PG   28  34.6  10.2  24.0  0.425  2.5  7.2   \n",
       "1   2       James Harden       PG   27  36.4   8.3  18.9  0.440  3.2  9.3   \n",
       "2   3      Isaiah Thomas       PG   27  33.8   9.0  19.4  0.463  3.2  8.5   \n",
       "3   4      Anthony Davis        C   23  36.1  10.3  20.3  0.505  0.5  1.8   \n",
       "4   5      DeMar DeRozan       SG   27  35.4   9.7  20.9  0.467  0.4  1.7   \n",
       "\n",
       "     ...     TOV   PF  POINTS  TEAM  GP   MPG  ORPM  DRPM   RPM  WINS_RPM  \n",
       "0    ...     5.4  2.3    31.6   OKC  81  34.6  6.74 -0.47  6.27     17.34  \n",
       "1    ...     5.7  2.7    29.1   HOU  81  36.4  6.38 -1.57  4.81     15.54  \n",
       "2    ...     2.8  2.2    28.9   BOS  76  33.8  5.72 -3.89  1.83      8.19  \n",
       "3    ...     2.4  2.2    28.0    NO  75  36.1  0.45  3.90  4.35     12.81  \n",
       "4    ...     2.4  1.8    27.3   TOR  74  35.4  2.21 -2.04  0.17      5.46  \n",
       "\n",
       "[5 rows x 34 columns]"
      ]
     },
     "execution_count": 8,
     "metadata": {},
     "output_type": "execute_result"
    }
   ],
   "source": [
    "\n",
    "nba_players_df = br_stats_df.copy()\n",
    "nba_players_df.rename(columns={'Player': 'PLAYER','Pos':'POSITION', 'Tm': \"TEAM\", 'Age': 'AGE', \"PS/G\": \"POINTS\"}, inplace=True)\n",
    "nba_players_df.drop([\"G\", \"GS\", \"TEAM\"], inplace=True, axis=1)\n",
    "nba_players_df = nba_players_df.merge(plus_minus_df, how=\"inner\", on=\"PLAYER\")\n",
    "nba_players_df.head()"
   ]
  },
  {
   "cell_type": "code",
   "execution_count": 9,
   "metadata": {
    "_cell_guid": "7a08905d-ef58-4ae0-aadb-1d7d031cb92f",
    "_execution_state": "idle",
    "_uuid": "79d5eb953faaf5c006a5b58d37308fc4207a8a36"
   },
   "outputs": [
    {
     "data": {
      "text/html": [
       "<div>\n",
       "<style>\n",
       "    .dataframe thead tr:only-child th {\n",
       "        text-align: right;\n",
       "    }\n",
       "\n",
       "    .dataframe thead th {\n",
       "        text-align: left;\n",
       "    }\n",
       "\n",
       "    .dataframe tbody tr th {\n",
       "        vertical-align: top;\n",
       "    }\n",
       "</style>\n",
       "<table border=\"1\" class=\"dataframe\">\n",
       "  <thead>\n",
       "    <tr style=\"text-align: right;\">\n",
       "      <th></th>\n",
       "      <th>Rk</th>\n",
       "      <th>PLAYER</th>\n",
       "      <th>POSITION</th>\n",
       "      <th>AGE</th>\n",
       "      <th>MP</th>\n",
       "      <th>FG</th>\n",
       "      <th>FGA</th>\n",
       "      <th>FG%</th>\n",
       "      <th>3P</th>\n",
       "      <th>3PA</th>\n",
       "      <th>...</th>\n",
       "      <th>TEAM</th>\n",
       "      <th>GP</th>\n",
       "      <th>MPG</th>\n",
       "      <th>ORPM</th>\n",
       "      <th>DRPM</th>\n",
       "      <th>RPM</th>\n",
       "      <th>WINS_RPM</th>\n",
       "      <th>PIE</th>\n",
       "      <th>PACE</th>\n",
       "      <th>W</th>\n",
       "    </tr>\n",
       "  </thead>\n",
       "  <tbody>\n",
       "    <tr>\n",
       "      <th>0</th>\n",
       "      <td>1</td>\n",
       "      <td>Russell Westbrook</td>\n",
       "      <td>PG</td>\n",
       "      <td>28</td>\n",
       "      <td>34.6</td>\n",
       "      <td>10.2</td>\n",
       "      <td>24.0</td>\n",
       "      <td>0.425</td>\n",
       "      <td>2.5</td>\n",
       "      <td>7.2</td>\n",
       "      <td>...</td>\n",
       "      <td>OKC</td>\n",
       "      <td>81</td>\n",
       "      <td>34.6</td>\n",
       "      <td>6.74</td>\n",
       "      <td>-0.47</td>\n",
       "      <td>6.27</td>\n",
       "      <td>17.34</td>\n",
       "      <td>23.0</td>\n",
       "      <td>102.31</td>\n",
       "      <td>46</td>\n",
       "    </tr>\n",
       "    <tr>\n",
       "      <th>1</th>\n",
       "      <td>2</td>\n",
       "      <td>James Harden</td>\n",
       "      <td>PG</td>\n",
       "      <td>27</td>\n",
       "      <td>36.4</td>\n",
       "      <td>8.3</td>\n",
       "      <td>18.9</td>\n",
       "      <td>0.440</td>\n",
       "      <td>3.2</td>\n",
       "      <td>9.3</td>\n",
       "      <td>...</td>\n",
       "      <td>HOU</td>\n",
       "      <td>81</td>\n",
       "      <td>36.4</td>\n",
       "      <td>6.38</td>\n",
       "      <td>-1.57</td>\n",
       "      <td>4.81</td>\n",
       "      <td>15.54</td>\n",
       "      <td>19.0</td>\n",
       "      <td>102.98</td>\n",
       "      <td>54</td>\n",
       "    </tr>\n",
       "    <tr>\n",
       "      <th>2</th>\n",
       "      <td>3</td>\n",
       "      <td>Isaiah Thomas</td>\n",
       "      <td>PG</td>\n",
       "      <td>27</td>\n",
       "      <td>33.8</td>\n",
       "      <td>9.0</td>\n",
       "      <td>19.4</td>\n",
       "      <td>0.463</td>\n",
       "      <td>3.2</td>\n",
       "      <td>8.5</td>\n",
       "      <td>...</td>\n",
       "      <td>BOS</td>\n",
       "      <td>76</td>\n",
       "      <td>33.8</td>\n",
       "      <td>5.72</td>\n",
       "      <td>-3.89</td>\n",
       "      <td>1.83</td>\n",
       "      <td>8.19</td>\n",
       "      <td>16.1</td>\n",
       "      <td>99.84</td>\n",
       "      <td>51</td>\n",
       "    </tr>\n",
       "    <tr>\n",
       "      <th>3</th>\n",
       "      <td>4</td>\n",
       "      <td>Anthony Davis</td>\n",
       "      <td>C</td>\n",
       "      <td>23</td>\n",
       "      <td>36.1</td>\n",
       "      <td>10.3</td>\n",
       "      <td>20.3</td>\n",
       "      <td>0.505</td>\n",
       "      <td>0.5</td>\n",
       "      <td>1.8</td>\n",
       "      <td>...</td>\n",
       "      <td>NO</td>\n",
       "      <td>75</td>\n",
       "      <td>36.1</td>\n",
       "      <td>0.45</td>\n",
       "      <td>3.90</td>\n",
       "      <td>4.35</td>\n",
       "      <td>12.81</td>\n",
       "      <td>19.2</td>\n",
       "      <td>100.19</td>\n",
       "      <td>31</td>\n",
       "    </tr>\n",
       "    <tr>\n",
       "      <th>4</th>\n",
       "      <td>5</td>\n",
       "      <td>DeMar DeRozan</td>\n",
       "      <td>SG</td>\n",
       "      <td>27</td>\n",
       "      <td>35.4</td>\n",
       "      <td>9.7</td>\n",
       "      <td>20.9</td>\n",
       "      <td>0.467</td>\n",
       "      <td>0.4</td>\n",
       "      <td>1.7</td>\n",
       "      <td>...</td>\n",
       "      <td>TOR</td>\n",
       "      <td>74</td>\n",
       "      <td>35.4</td>\n",
       "      <td>2.21</td>\n",
       "      <td>-2.04</td>\n",
       "      <td>0.17</td>\n",
       "      <td>5.46</td>\n",
       "      <td>15.5</td>\n",
       "      <td>97.69</td>\n",
       "      <td>47</td>\n",
       "    </tr>\n",
       "  </tbody>\n",
       "</table>\n",
       "<p>5 rows × 37 columns</p>\n",
       "</div>"
      ],
      "text/plain": [
       "   Rk             PLAYER POSITION  AGE    MP    FG   FGA    FG%   3P  3PA ...  \\\n",
       "0   1  Russell Westbrook       PG   28  34.6  10.2  24.0  0.425  2.5  7.2 ...   \n",
       "1   2       James Harden       PG   27  36.4   8.3  18.9  0.440  3.2  9.3 ...   \n",
       "2   3      Isaiah Thomas       PG   27  33.8   9.0  19.4  0.463  3.2  8.5 ...   \n",
       "3   4      Anthony Davis        C   23  36.1  10.3  20.3  0.505  0.5  1.8 ...   \n",
       "4   5      DeMar DeRozan       SG   27  35.4   9.7  20.9  0.467  0.4  1.7 ...   \n",
       "\n",
       "   TEAM  GP   MPG  ORPM  DRPM   RPM  WINS_RPM   PIE    PACE   W  \n",
       "0   OKC  81  34.6  6.74 -0.47  6.27     17.34  23.0  102.31  46  \n",
       "1   HOU  81  36.4  6.38 -1.57  4.81     15.54  19.0  102.98  54  \n",
       "2   BOS  76  33.8  5.72 -3.89  1.83      8.19  16.1   99.84  51  \n",
       "3    NO  75  36.1  0.45  3.90  4.35     12.81  19.2  100.19  31  \n",
       "4   TOR  74  35.4  2.21 -2.04  0.17      5.46  15.5   97.69  47  \n",
       "\n",
       "[5 rows x 37 columns]"
      ]
     },
     "execution_count": 9,
     "metadata": {},
     "output_type": "execute_result"
    }
   ],
   "source": [
    "\n",
    "pie_df_subset = pie_df[[\"PLAYER\", \"PIE\", \"PACE\", \"W\"]].copy()\n",
    "nba_players_df = nba_players_df.merge(pie_df_subset, how=\"inner\", on=\"PLAYER\")\n",
    "nba_players_df.head()"
   ]
  },
  {
   "cell_type": "code",
   "execution_count": 10,
   "metadata": {
    "_cell_guid": "42d57761-2e0b-4602-bf8b-b81b16367b7f",
    "_execution_state": "idle",
    "_uuid": "24389104968385909fc9d18dc23a5c7ff25fe358"
   },
   "outputs": [
    {
     "data": {
      "text/html": [
       "<div>\n",
       "<style>\n",
       "    .dataframe thead tr:only-child th {\n",
       "        text-align: right;\n",
       "    }\n",
       "\n",
       "    .dataframe thead th {\n",
       "        text-align: left;\n",
       "    }\n",
       "\n",
       "    .dataframe tbody tr th {\n",
       "        vertical-align: top;\n",
       "    }\n",
       "</style>\n",
       "<table border=\"1\" class=\"dataframe\">\n",
       "  <thead>\n",
       "    <tr style=\"text-align: right;\">\n",
       "      <th></th>\n",
       "      <th>PLAYER</th>\n",
       "      <th>SALARY_MILLIONS</th>\n",
       "    </tr>\n",
       "  </thead>\n",
       "  <tbody>\n",
       "    <tr>\n",
       "      <th>0</th>\n",
       "      <td>LeBron James</td>\n",
       "      <td>30.96</td>\n",
       "    </tr>\n",
       "    <tr>\n",
       "      <th>1</th>\n",
       "      <td>Mike Conley</td>\n",
       "      <td>26.54</td>\n",
       "    </tr>\n",
       "    <tr>\n",
       "      <th>2</th>\n",
       "      <td>Al Horford</td>\n",
       "      <td>26.54</td>\n",
       "    </tr>\n",
       "    <tr>\n",
       "      <th>3</th>\n",
       "      <td>Dirk Nowitzki</td>\n",
       "      <td>25.00</td>\n",
       "    </tr>\n",
       "    <tr>\n",
       "      <th>4</th>\n",
       "      <td>Carmelo Anthony</td>\n",
       "      <td>24.56</td>\n",
       "    </tr>\n",
       "  </tbody>\n",
       "</table>\n",
       "</div>"
      ],
      "text/plain": [
       "            PLAYER  SALARY_MILLIONS\n",
       "0     LeBron James            30.96\n",
       "1      Mike Conley            26.54\n",
       "2       Al Horford            26.54\n",
       "3    Dirk Nowitzki            25.00\n",
       "4  Carmelo Anthony            24.56"
      ]
     },
     "execution_count": 10,
     "metadata": {},
     "output_type": "execute_result"
    }
   ],
   "source": [
    "salary_df.rename(columns={'NAME': 'PLAYER'}, inplace=True)\n",
    "salary_df[\"SALARY_MILLIONS\"] = round(salary_df[\"SALARY\"]/1000000, 2)\n",
    "salary_df.drop([\"POSITION\",\"TEAM\", \"SALARY\"], inplace=True, axis=1)\n",
    "salary_df.head()"
   ]
  },
  {
   "cell_type": "code",
   "execution_count": 11,
   "metadata": {
    "_cell_guid": "549debae-0f8a-4a11-b5c9-9b74ac6c9b0f",
    "_execution_state": "idle",
    "_uuid": "9d3e18d8724aae678a447c1090f298f5831a306d"
   },
   "outputs": [
    {
     "name": "stdout",
     "output_type": "stream",
     "text": [
      "['Darrun Hilliard', 'Semaj Christon', 'Lavoy Allen', 'Cheick Diallo', 'Thomas Robinson', 'James Jones', 'Dorian Finney-Smith', 'Skal Labissiere', 'Georges Niang', 'Alex Poythress', 'Quinn Cook', 'Justin Holiday', 'Ivica Zubac', 'Joe Young', 'Ben Bentil', 'Raymond Felton', 'Hollis Thompson', 'Matt Barnes', 'Davis Bertans', 'Rodney McGruder', 'Hassan Whiteside', 'Joel Bolomboy', 'Ron Baker', 'Richaun Holmes', 'JaMychal Green', 'Salah Mejri', 'Terrence Jones', 'Alan Anderson', 'Robert Covington', 'Derrick Williams', 'Seth Curry', 'Norris Cole', 'Jose Calderon', 'Isaiah Whitehead', 'Andre Drummond', 'Jerami Grant', 'Dahntay Jones', 'Montrezl Harrell', 'Zaza Pachulia', 'Jeff Withey', 'Anthony Tolliver', 'Richard Jefferson', 'Patrick Beverley', 'Chinanu Onuaku', 'Joe Harris', 'Brandon Bass', 'Damjan Rudez', 'Jason Terry', 'Cristiano Felicio', 'Sasha Vujacic', 'Pascal Siakam', 'Jordan McRae', 'David Nwaba', 'Bobby Brown', 'Daniel Ochefu', 'Metta World Peace', 'Isaiah Taylor', 'Tim Quarterman', 'Jonathon Simmons', 'Jarrod Uthoff', 'Harrison Barnes', 'Gerald Green', 'C.J. Watson', 'Shabazz Napier', 'Nicolas Brussino', 'Okaro White', 'Lou Williams', 'Josh Huestis', 'Kevon Looney', 'Jordan Crawford', 'Kay Felder', 'Luke Babbitt', 'Spencer Dinwiddie', 'Patricio Garino', 'Beno Udrih', 'Malcolm Brogdon', 'T.J. McConnell', 'Nicolas Laprovittola', 'Donatas Motiejunas', 'Norman Powell', 'Patrick McCaw', 'Kyle Anderson', 'Omri Casspi', 'David West', 'Paul Zipser', 'Willie Reed', 'Ian Clark', 'Tyler Ulis', 'Yogi Ferrell', 'Brian Roberts', 'Chris McCullough', 'Michael Gbinije', 'Chris Andersen', 'Deron Williams', 'Mike Muscala', 'Damian Jones', 'Joel Anthony', 'Clint Capela', 'Raul Neto', 'James Michael McAdoo', 'Kyle Lowry', 'Anderson Varejao', 'Alan Williams', 'DeAndre Jordan', 'Stephen Zimmerman', 'Ty Lawson', 'Ronnie Price', 'Shawn Long', 'Kyle Wiltjer', 'DeMar DeRozan', 'Larry Nance Jr.']\n"
     ]
    }
   ],
   "source": [
    "diff = list(set(nba_players_df[\"PLAYER\"].values.tolist()) - set(salary_df[\"PLAYER\"].values.tolist()))\n",
    "print (diff)"
   ]
  },
  {
   "cell_type": "code",
   "execution_count": 12,
   "metadata": {
    "_cell_guid": "aabb77d7-990b-4040-bd03-3dfd8c9f1170",
    "_execution_state": "idle",
    "_uuid": "8e32c634db5bcbef08ee3d90b954a39a0aecb662"
   },
   "outputs": [
    {
     "data": {
      "text/plain": [
       "111"
      ]
     },
     "execution_count": 12,
     "metadata": {},
     "output_type": "execute_result"
    }
   ],
   "source": [
    "len(diff)\n"
   ]
  },
  {
   "cell_type": "code",
   "execution_count": 13,
   "metadata": {
    "_cell_guid": "f047dbb0-b0b4-4b83-b48d-53f39d068414",
    "_execution_state": "idle",
    "_uuid": "74ea75d72c6cb0cabf2c9bdeb7636dfff00793e9",
    "collapsed": true
   },
   "outputs": [],
   "source": [
    "\n",
    "nba_players_with_salary_df = nba_players_df.merge(salary_df); "
   ]
  },
  {
   "cell_type": "code",
   "execution_count": 14,
   "metadata": {
    "_cell_guid": "ae568634-d577-40b3-9df4-5b4277a06d9a",
    "_execution_state": "idle",
    "_uuid": "d239ec863fc5bb49b320a9a275293a701339fe2f"
   },
   "outputs": [
    {
     "data": {
      "text/plain": [
       "<matplotlib.axes._subplots.AxesSubplot at 0x7f4c87034940>"
      ]
     },
     "execution_count": 14,
     "metadata": {},
     "output_type": "execute_result"
    },
    {
     "data": {
      "image/png": "[encoded data removed]",
      "text/plain": [
       "<matplotlib.figure.Figure at 0x7f4c87034550>"
      ]
     },
     "metadata": {},
     "output_type": "display_data"
    }
   ],
   "source": [
    "\n",
    "plt.subplots(figsize=(20,15))\n",
    "ax = plt.axes()\n",
    "ax.set_title(\"NBA Player Correlation Heatmap:  2016-2017 Season (STATS & SALARY)\")\n",
    "corr = nba_players_with_salary_df.corr()\n",
    "sns.heatmap(corr, \n",
    "            xticklabels=corr.columns.values,\n",
    "            yticklabels=corr.columns.values)"
   ]
  },
  {
   "cell_type": "code",
   "execution_count": 15,
   "metadata": {
    "_cell_guid": "3bc5bd7c-ea8d-49c9-b608-4d2164a048f8",
    "_execution_state": "idle",
    "_uuid": "eaacf610e4a90c4aab11deb4f32ad4a544284ff9"
   },
   "outputs": [
    {
     "data": {
      "text/plain": [
       "<seaborn.axisgrid.FacetGrid at 0x7f4c87034b38>"
      ]
     },
     "execution_count": 15,
     "metadata": {},
     "output_type": "execute_result"
    },
    {
     "data": {
      "image/png": "[encoded data removed]",
      "text/plain": [
       "<matplotlib.figure.Figure at 0x7f4c87034780>"
      ]
     },
     "metadata": {},
     "output_type": "display_data"
    }
   ],
   "source": [
    "sns.lmplot(x=\"SALARY_MILLIONS\", y=\"WINS_RPM\", data=nba_players_with_salary_df)\n"
   ]
  },
  {
   "cell_type": "code",
   "execution_count": 16,
   "metadata": {
    "_cell_guid": "096f6301-0a35-4472-a44a-5a676954f2d5",
    "_execution_state": "idle",
    "_uuid": "fb5f13125dd71ad928966705e6f0a273cf356cf9",
    "collapsed": true
   },
   "outputs": [],
   "source": [
    "results = smf.ols('W ~POINTS', data=nba_players_with_salary_df).fit()\n"
   ]
  },
  {
   "cell_type": "code",
   "execution_count": 17,
   "metadata": {
    "_cell_guid": "900efade-e067-479f-9a39-a91b927477fb",
    "_execution_state": "idle",
    "_uuid": "3bf255790a477270d10f7a2eb85614b4c6d52dba"
   },
   "outputs": [
    {
     "name": "stdout",
     "output_type": "stream",
     "text": [
      "                            OLS Regression Results                            \n",
      "==============================================================================\n",
      "Dep. Variable:                      W   R-squared:                       0.200\n",
      "Model:                            OLS   Adj. R-squared:                  0.197\n",
      "Method:                 Least Squares   F-statistic:                     84.74\n",
      "Date:                Fri, 19 Jan 2018   Prob (F-statistic):           3.57e-18\n",
      "Time:                        00:45:49   Log-Likelihood:                -1363.7\n",
      "No. Observations:                 342   AIC:                             2731.\n",
      "Df Residuals:                     340   BIC:                             2739.\n",
      "Df Model:                           1                                         \n",
      "Covariance Type:            nonrobust                                         \n",
      "==============================================================================\n",
      "                 coef    std err          t      P>|t|      [0.025      0.975]\n",
      "------------------------------------------------------------------------------\n",
      "Intercept     19.1105      1.282     14.908      0.000      16.589      21.632\n",
      "POINTS         1.0416      0.113      9.205      0.000       0.819       1.264\n",
      "==============================================================================\n",
      "Omnibus:                        5.987   Durbin-Watson:                   1.553\n",
      "Prob(Omnibus):                  0.050   Jarque-Bera (JB):                6.086\n",
      "Skew:                           0.306   Prob(JB):                       0.0477\n",
      "Kurtosis:                       2.772   Cond. No.                         20.6\n",
      "==============================================================================\n",
      "\n",
      "Warnings:\n",
      "[1] Standard Errors assume that the covariance matrix of the errors is correctly specified.\n"
     ]
    }
   ],
   "source": [
    "print(results.summary())\n"
   ]
  },
  {
   "cell_type": "code",
   "execution_count": 18,
   "metadata": {
    "_cell_guid": "8fc1b169-9e05-4f81-94b1-cd115cf61a98",
    "_execution_state": "idle",
    "_uuid": "7021e4fc4fcebc15476fb3080889241000e666b2",
    "collapsed": true
   },
   "outputs": [],
   "source": [
    "results = smf.ols('W ~WINS_RPM', data=nba_players_with_salary_df).fit()\n"
   ]
  },
  {
   "cell_type": "code",
   "execution_count": 19,
   "metadata": {
    "_cell_guid": "fad6fec2-abf9-46a2-9d3d-832dc5b75d18",
    "_execution_state": "idle",
    "_uuid": "1ce1f54e86f699c3dca7a52aecfc0945c8a5ffca"
   },
   "outputs": [
    {
     "name": "stdout",
     "output_type": "stream",
     "text": [
      "                            OLS Regression Results                            \n",
      "==============================================================================\n",
      "Dep. Variable:                      W   R-squared:                       0.324\n",
      "Model:                            OLS   Adj. R-squared:                  0.322\n",
      "Method:                 Least Squares   F-statistic:                     162.9\n",
      "Date:                Fri, 19 Jan 2018   Prob (F-statistic):           9.34e-31\n",
      "Time:                        00:45:49   Log-Likelihood:                -1334.8\n",
      "No. Observations:                 342   AIC:                             2674.\n",
      "Df Residuals:                     340   BIC:                             2681.\n",
      "Df Model:                           1                                         \n",
      "Covariance Type:            nonrobust                                         \n",
      "==============================================================================\n",
      "                 coef    std err          t      P>|t|      [0.025      0.975]\n",
      "------------------------------------------------------------------------------\n",
      "Intercept     22.8208      0.808     28.233      0.000      21.231      24.411\n",
      "WINS_RPM       2.1419      0.168     12.765      0.000       1.812       2.472\n",
      "==============================================================================\n",
      "Omnibus:                        3.692   Durbin-Watson:                   1.400\n",
      "Prob(Omnibus):                  0.158   Jarque-Bera (JB):                3.607\n",
      "Skew:                           0.207   Prob(JB):                        0.165\n",
      "Kurtosis:                       2.716   Cond. No.                         6.08\n",
      "==============================================================================\n",
      "\n",
      "Warnings:\n",
      "[1] Standard Errors assume that the covariance matrix of the errors is correctly specified.\n"
     ]
    }
   ],
   "source": [
    "print(results.summary())\n"
   ]
  },
  {
   "cell_type": "code",
   "execution_count": 20,
   "metadata": {
    "_cell_guid": "e2d93ce7-d233-45ef-b113-f9c4a8580e2e",
    "_execution_state": "idle",
    "_uuid": "d54b34e394db2feb9a3ac55a45093f95f5281226",
    "collapsed": true
   },
   "outputs": [],
   "source": [
    "results = smf.ols('SALARY_MILLIONS ~POINTS', data=nba_players_with_salary_df).fit()\n"
   ]
  },
  {
   "cell_type": "code",
   "execution_count": 21,
   "metadata": {
    "_cell_guid": "d6acdef5-ef9e-4a84-8d74-391101d7112c",
    "_execution_state": "idle",
    "_uuid": "f8f71b25af017a8d8c439894a55223ba3194345e"
   },
   "outputs": [
    {
     "name": "stdout",
     "output_type": "stream",
     "text": [
      "                            OLS Regression Results                            \n",
      "==============================================================================\n",
      "Dep. Variable:        SALARY_MILLIONS   R-squared:                       0.404\n",
      "Model:                            OLS   Adj. R-squared:                  0.402\n",
      "Method:                 Least Squares   F-statistic:                     230.2\n",
      "Date:                Fri, 19 Jan 2018   Prob (F-statistic):           4.49e-40\n",
      "Time:                        00:45:49   Log-Likelihood:                -1037.4\n",
      "No. Observations:                 342   AIC:                             2079.\n",
      "Df Residuals:                     340   BIC:                             2086.\n",
      "Df Model:                           1                                         \n",
      "Covariance Type:            nonrobust                                         \n",
      "==============================================================================\n",
      "                 coef    std err          t      P>|t|      [0.025      0.975]\n",
      "------------------------------------------------------------------------------\n",
      "Intercept      1.0479      0.494      2.123      0.034       0.077       2.019\n",
      "POINTS         0.6612      0.044     15.174      0.000       0.575       0.747\n",
      "==============================================================================\n",
      "Omnibus:                       15.215   Durbin-Watson:                   1.926\n",
      "Prob(Omnibus):                  0.000   Jarque-Bera (JB):               17.006\n",
      "Skew:                           0.444   Prob(JB):                     0.000203\n",
      "Kurtosis:                       3.636   Cond. No.                         20.6\n",
      "==============================================================================\n",
      "\n",
      "Warnings:\n",
      "[1] Standard Errors assume that the covariance matrix of the errors is correctly specified.\n"
     ]
    }
   ],
   "source": [
    "print(results.summary())\n"
   ]
  },
  {
   "cell_type": "code",
   "execution_count": 22,
   "metadata": {
    "_cell_guid": "1bd808fd-8ffd-482f-9dfa-1aa7f140aad2",
    "_execution_state": "idle",
    "_uuid": "f1d0e19e6f892816da9cbb67415e1d4e4f920cd9",
    "collapsed": true
   },
   "outputs": [],
   "source": [
    "results = smf.ols('SALARY_MILLIONS ~WINS_RPM', data=nba_players_with_salary_df).fit()\n"
   ]
  },
  {
   "cell_type": "code",
   "execution_count": 23,
   "metadata": {
    "_cell_guid": "40282af3-37a5-4297-b97b-69c4f84f90ec",
    "_execution_state": "idle",
    "_uuid": "f8e337aaf781dce576a87a461c684db5e56e682b"
   },
   "outputs": [
    {
     "name": "stdout",
     "output_type": "stream",
     "text": [
      "                            OLS Regression Results                            \n",
      "==============================================================================\n",
      "Dep. Variable:        SALARY_MILLIONS   R-squared:                       0.303\n",
      "Model:                            OLS   Adj. R-squared:                  0.301\n",
      "Method:                 Least Squares   F-statistic:                     147.6\n",
      "Date:                Fri, 19 Jan 2018   Prob (F-statistic):           1.86e-28\n",
      "Time:                        00:45:49   Log-Likelihood:                -1064.1\n",
      "No. Observations:                 342   AIC:                             2132.\n",
      "Df Residuals:                     340   BIC:                             2140.\n",
      "Df Model:                           1                                         \n",
      "Covariance Type:            nonrobust                                         \n",
      "==============================================================================\n",
      "                 coef    std err          t      P>|t|      [0.025      0.975]\n",
      "------------------------------------------------------------------------------\n",
      "Intercept      4.6501      0.366     12.695      0.000       3.930       5.371\n",
      "WINS_RPM       0.9239      0.076     12.150      0.000       0.774       1.073\n",
      "==============================================================================\n",
      "Omnibus:                       28.702   Durbin-Watson:                   1.783\n",
      "Prob(Omnibus):                  0.000   Jarque-Bera (JB):               34.487\n",
      "Skew:                           0.682   Prob(JB):                     3.25e-08\n",
      "Kurtosis:                       3.747   Cond. No.                         6.08\n",
      "==============================================================================\n",
      "\n",
      "Warnings:\n",
      "[1] Standard Errors assume that the covariance matrix of the errors is correctly specified.\n"
     ]
    }
   ],
   "source": [
    "print(results.summary())\n"
   ]
  },
  {
   "cell_type": "code",
   "execution_count": 24,
   "metadata": {
    "_cell_guid": "02817e7c-0f93-4dfa-aa29-c3c92a0f34ac",
    "_execution_state": "idle",
    "_uuid": "52c51f963a34e5f51773e4a5aca47b7477aaf203"
   },
   "outputs": [
    {
     "name": "stderr",
     "output_type": "stream",
     "text": [
      "/opt/conda/lib/python3.6/site-packages/ggplot/utils.py:81: FutureWarning: pandas.tslib is deprecated and will be removed in a future version.\n",
      "You can access Timestamp as pandas.Timestamp\n",
      "  pd.tslib.Timestamp,\n",
      "/opt/conda/lib/python3.6/site-packages/ggplot/stats/smoothers.py:4: FutureWarning: The pandas.lib module is deprecated and will be removed in a future version. These are private functions and can be accessed from pandas._libs.lib instead\n",
      "  from pandas.lib import Timestamp\n"
     ]
    }
   ],
   "source": [
    "from ggplot import *\n"
   ]
  },
  {
   "cell_type": "code",
   "execution_count": 25,
   "metadata": {
    "_cell_guid": "5932f4a4-fce1-4904-b63d-c576d9e830e6",
    "_execution_state": "idle",
    "_uuid": "71e467b9c31b20ee9b6bff91da2c16d875a099b8"
   },
   "outputs": [
    {
     "data": {
      "image/png": "[encoded data removed]",
      "text/plain": [
       "<matplotlib.figure.Figure at 0x7f4c7f88b438>"
      ]
     },
     "metadata": {},
     "output_type": "display_data"
    },
    {
     "data": {
      "text/plain": [
       "<ggplot: (8747908366312)>"
      ]
     },
     "execution_count": 25,
     "metadata": {},
     "output_type": "execute_result"
    }
   ],
   "source": [
    "\n",
    "p = ggplot(nba_players_with_salary_df,aes(x=\"POINTS\", y=\"WINS_RPM\", color=\"SALARY_MILLIONS\")) + geom_point(size=200)\n",
    "p + xlab(\"POINTS/GAME\") + ylab(\"WINS/RPM\") + ggtitle(\"NBA Players 2016-2017:  POINTS/GAME, WINS REAL PLUS MINUS and SALARY\")"
   ]
  },
  {
   "cell_type": "code",
   "execution_count": 26,
   "metadata": {
    "_cell_guid": "ffbeda4a-9d64-45b8-8976-2bb64aeb648a",
    "_execution_state": "idle",
    "_uuid": "713a64d0e1b6281d96954104580cd2a76fb5bb36"
   },
   "outputs": [
    {
     "data": {
      "text/html": [
       "<div>\n",
       "<style>\n",
       "    .dataframe thead tr:only-child th {\n",
       "        text-align: right;\n",
       "    }\n",
       "\n",
       "    .dataframe thead th {\n",
       "        text-align: left;\n",
       "    }\n",
       "\n",
       "    .dataframe tbody tr th {\n",
       "        vertical-align: top;\n",
       "    }\n",
       "</style>\n",
       "<table border=\"1\" class=\"dataframe\">\n",
       "  <thead>\n",
       "    <tr style=\"text-align: right;\">\n",
       "      <th></th>\n",
       "      <th>Unnamed: 0</th>\n",
       "      <th>names</th>\n",
       "      <th>pageviews</th>\n",
       "      <th>timestamps</th>\n",
       "      <th>wikipedia_handles</th>\n",
       "    </tr>\n",
       "  </thead>\n",
       "  <tbody>\n",
       "    <tr>\n",
       "      <th>0</th>\n",
       "      <td>0</td>\n",
       "      <td>Russell Westbrook</td>\n",
       "      <td>3400</td>\n",
       "      <td>2016010100</td>\n",
       "      <td>Russell_Westbrook</td>\n",
       "    </tr>\n",
       "    <tr>\n",
       "      <th>1</th>\n",
       "      <td>1</td>\n",
       "      <td>Russell Westbrook</td>\n",
       "      <td>2893</td>\n",
       "      <td>2016010200</td>\n",
       "      <td>Russell_Westbrook</td>\n",
       "    </tr>\n",
       "    <tr>\n",
       "      <th>2</th>\n",
       "      <td>2</td>\n",
       "      <td>Russell Westbrook</td>\n",
       "      <td>3209</td>\n",
       "      <td>2016010300</td>\n",
       "      <td>Russell_Westbrook</td>\n",
       "    </tr>\n",
       "    <tr>\n",
       "      <th>3</th>\n",
       "      <td>3</td>\n",
       "      <td>Russell Westbrook</td>\n",
       "      <td>2531</td>\n",
       "      <td>2016010400</td>\n",
       "      <td>Russell_Westbrook</td>\n",
       "    </tr>\n",
       "    <tr>\n",
       "      <th>4</th>\n",
       "      <td>4</td>\n",
       "      <td>Russell Westbrook</td>\n",
       "      <td>2599</td>\n",
       "      <td>2016010500</td>\n",
       "      <td>Russell_Westbrook</td>\n",
       "    </tr>\n",
       "  </tbody>\n",
       "</table>\n",
       "</div>"
      ],
      "text/plain": [
       "   Unnamed: 0              names  pageviews  timestamps  wikipedia_handles\n",
       "0           0  Russell Westbrook       3400  2016010100  Russell_Westbrook\n",
       "1           1  Russell Westbrook       2893  2016010200  Russell_Westbrook\n",
       "2           2  Russell Westbrook       3209  2016010300  Russell_Westbrook\n",
       "3           3  Russell Westbrook       2531  2016010400  Russell_Westbrook\n",
       "4           4  Russell Westbrook       2599  2016010500  Russell_Westbrook"
      ]
     },
     "execution_count": 26,
     "metadata": {},
     "output_type": "execute_result"
    }
   ],
   "source": [
    "wiki_df = pd.read_csv(\"../input/nba_2017_player_wikipedia.csv\");wiki_df.head()\n"
   ]
  },
  {
   "cell_type": "code",
   "execution_count": 27,
   "metadata": {
    "_cell_guid": "7494d335-766a-4763-93cb-72f8feb352df",
    "_execution_state": "idle",
    "_uuid": "44a69072586aee96ae3bcdc286a48f246e471ddf",
    "collapsed": true
   },
   "outputs": [],
   "source": [
    "wiki_df.rename(columns={'names': 'PLAYER', \"pageviews\": \"PAGEVIEWS\"}, inplace=True)\n"
   ]
  },
  {
   "cell_type": "code",
   "execution_count": 28,
   "metadata": {
    "_cell_guid": "0483d7ec-138e-488d-b5d2-2437f9adab92",
    "_execution_state": "idle",
    "_uuid": "32835011aff38d26fe73382fd2c4a47ef16f9932",
    "collapsed": true
   },
   "outputs": [],
   "source": [
    "median_wiki_df = wiki_df.groupby(\"PLAYER\").median()\n"
   ]
  },
  {
   "cell_type": "code",
   "execution_count": 29,
   "metadata": {
    "_cell_guid": "1cce4d68-2f87-4c3e-b776-43b69f4b3179",
    "_execution_state": "idle",
    "_uuid": "bb83faed0833eada820f979d68b736479bf6172c",
    "collapsed": true
   },
   "outputs": [],
   "source": [
    "\n",
    "median_wiki_df_small = median_wiki_df[[\"PAGEVIEWS\"]]"
   ]
  },
  {
   "cell_type": "code",
   "execution_count": 30,
   "metadata": {
    "_cell_guid": "f380b562-f573-4d36-9e2a-41e1af16f210",
    "_execution_state": "idle",
    "_uuid": "7916dbcce020818840d163dc245e611be814c105",
    "collapsed": true
   },
   "outputs": [],
   "source": [
    "median_wiki_df_small = median_wiki_df_small.reset_index()\n"
   ]
  },
  {
   "cell_type": "code",
   "execution_count": 31,
   "metadata": {
    "_cell_guid": "a2299925-bc72-46e7-8462-8bf7c5612199",
    "_execution_state": "idle",
    "_uuid": "7e7f57cabb5656f0d7c77d7f3e8429a16ff92e3e",
    "collapsed": true
   },
   "outputs": [],
   "source": [
    "nba_players_with_salary_wiki_df = nba_players_with_salary_df.merge(median_wiki_df_small)\n"
   ]
  },
  {
   "cell_type": "code",
   "execution_count": 32,
   "metadata": {
    "_cell_guid": "3684c329-22e0-49be-81b1-e74ab2d23e7f",
    "_execution_state": "idle",
    "_uuid": "cb31e25d087d621fe36ca8b30cc8f75b3cb64e37"
   },
   "outputs": [
    {
     "data": {
      "text/html": [
       "<div>\n",
       "<style>\n",
       "    .dataframe thead tr:only-child th {\n",
       "        text-align: right;\n",
       "    }\n",
       "\n",
       "    .dataframe thead th {\n",
       "        text-align: left;\n",
       "    }\n",
       "\n",
       "    .dataframe tbody tr th {\n",
       "        vertical-align: top;\n",
       "    }\n",
       "</style>\n",
       "<table border=\"1\" class=\"dataframe\">\n",
       "  <thead>\n",
       "    <tr style=\"text-align: right;\">\n",
       "      <th></th>\n",
       "      <th>PLAYER</th>\n",
       "      <th>TWITTER_FAVORITE_COUNT</th>\n",
       "      <th>TWITTER_RETWEET_COUNT</th>\n",
       "    </tr>\n",
       "  </thead>\n",
       "  <tbody>\n",
       "    <tr>\n",
       "      <th>0</th>\n",
       "      <td>Russell Westbrook</td>\n",
       "      <td>2130.5</td>\n",
       "      <td>559.0</td>\n",
       "    </tr>\n",
       "    <tr>\n",
       "      <th>1</th>\n",
       "      <td>James Harden</td>\n",
       "      <td>969.0</td>\n",
       "      <td>321.5</td>\n",
       "    </tr>\n",
       "    <tr>\n",
       "      <th>2</th>\n",
       "      <td>Isaiah Thomas</td>\n",
       "      <td>467.5</td>\n",
       "      <td>155.5</td>\n",
       "    </tr>\n",
       "    <tr>\n",
       "      <th>3</th>\n",
       "      <td>Anthony Davis</td>\n",
       "      <td>368.0</td>\n",
       "      <td>104.0</td>\n",
       "    </tr>\n",
       "    <tr>\n",
       "      <th>4</th>\n",
       "      <td>DeMar DeRozan</td>\n",
       "      <td>0.0</td>\n",
       "      <td>186.0</td>\n",
       "    </tr>\n",
       "  </tbody>\n",
       "</table>\n",
       "</div>"
      ],
      "text/plain": [
       "              PLAYER  TWITTER_FAVORITE_COUNT  TWITTER_RETWEET_COUNT\n",
       "0  Russell Westbrook                  2130.5                  559.0\n",
       "1       James Harden                   969.0                  321.5\n",
       "2      Isaiah Thomas                   467.5                  155.5\n",
       "3      Anthony Davis                   368.0                  104.0\n",
       "4      DeMar DeRozan                     0.0                  186.0"
      ]
     },
     "execution_count": 32,
     "metadata": {},
     "output_type": "execute_result"
    }
   ],
   "source": [
    "twitter_df = pd.read_csv(\"../input/nba_2017_twitter_players.csv\");twitter_df.head()\n"
   ]
  },
  {
   "cell_type": "code",
   "execution_count": 33,
   "metadata": {
    "_cell_guid": "5a4507bc-29e0-462d-bcc7-e826186ab325",
    "_execution_state": "idle",
    "_uuid": "f191d512b7ba18f2b8dbed42aaa2c898a475ed23",
    "collapsed": true
   },
   "outputs": [],
   "source": [
    "nba_players_with_salary_wiki_twitter_df = nba_players_with_salary_wiki_df.merge(twitter_df)\n"
   ]
  },
  {
   "cell_type": "code",
   "execution_count": 34,
   "metadata": {
    "_cell_guid": "b6926233-d1c8-4dcf-a13b-dc74e7aa0b83",
    "_execution_state": "idle",
    "_uuid": "a8ddae6c1ce3b3b22e41246f9504f29c537711f0"
   },
   "outputs": [
    {
     "data": {
      "text/html": [
       "<div>\n",
       "<style>\n",
       "    .dataframe thead tr:only-child th {\n",
       "        text-align: right;\n",
       "    }\n",
       "\n",
       "    .dataframe thead th {\n",
       "        text-align: left;\n",
       "    }\n",
       "\n",
       "    .dataframe tbody tr th {\n",
       "        vertical-align: top;\n",
       "    }\n",
       "</style>\n",
       "<table border=\"1\" class=\"dataframe\">\n",
       "  <thead>\n",
       "    <tr style=\"text-align: right;\">\n",
       "      <th></th>\n",
       "      <th>Rk</th>\n",
       "      <th>PLAYER</th>\n",
       "      <th>POSITION</th>\n",
       "      <th>AGE</th>\n",
       "      <th>MP</th>\n",
       "      <th>FG</th>\n",
       "      <th>FGA</th>\n",
       "      <th>FG%</th>\n",
       "      <th>3P</th>\n",
       "      <th>3PA</th>\n",
       "      <th>...</th>\n",
       "      <th>DRPM</th>\n",
       "      <th>RPM</th>\n",
       "      <th>WINS_RPM</th>\n",
       "      <th>PIE</th>\n",
       "      <th>PACE</th>\n",
       "      <th>W</th>\n",
       "      <th>SALARY_MILLIONS</th>\n",
       "      <th>PAGEVIEWS</th>\n",
       "      <th>TWITTER_FAVORITE_COUNT</th>\n",
       "      <th>TWITTER_RETWEET_COUNT</th>\n",
       "    </tr>\n",
       "  </thead>\n",
       "  <tbody>\n",
       "    <tr>\n",
       "      <th>0</th>\n",
       "      <td>1</td>\n",
       "      <td>Russell Westbrook</td>\n",
       "      <td>PG</td>\n",
       "      <td>28</td>\n",
       "      <td>34.6</td>\n",
       "      <td>10.2</td>\n",
       "      <td>24.0</td>\n",
       "      <td>0.425</td>\n",
       "      <td>2.5</td>\n",
       "      <td>7.2</td>\n",
       "      <td>...</td>\n",
       "      <td>-0.47</td>\n",
       "      <td>6.27</td>\n",
       "      <td>17.34</td>\n",
       "      <td>23.0</td>\n",
       "      <td>102.31</td>\n",
       "      <td>46</td>\n",
       "      <td>26.50</td>\n",
       "      <td>4279.0</td>\n",
       "      <td>2130.5</td>\n",
       "      <td>559.0</td>\n",
       "    </tr>\n",
       "    <tr>\n",
       "      <th>1</th>\n",
       "      <td>2</td>\n",
       "      <td>James Harden</td>\n",
       "      <td>PG</td>\n",
       "      <td>27</td>\n",
       "      <td>36.4</td>\n",
       "      <td>8.3</td>\n",
       "      <td>18.9</td>\n",
       "      <td>0.440</td>\n",
       "      <td>3.2</td>\n",
       "      <td>9.3</td>\n",
       "      <td>...</td>\n",
       "      <td>-1.57</td>\n",
       "      <td>4.81</td>\n",
       "      <td>15.54</td>\n",
       "      <td>19.0</td>\n",
       "      <td>102.98</td>\n",
       "      <td>54</td>\n",
       "      <td>26.50</td>\n",
       "      <td>3279.0</td>\n",
       "      <td>969.0</td>\n",
       "      <td>321.5</td>\n",
       "    </tr>\n",
       "    <tr>\n",
       "      <th>2</th>\n",
       "      <td>4</td>\n",
       "      <td>Anthony Davis</td>\n",
       "      <td>C</td>\n",
       "      <td>23</td>\n",
       "      <td>36.1</td>\n",
       "      <td>10.3</td>\n",
       "      <td>20.3</td>\n",
       "      <td>0.505</td>\n",
       "      <td>0.5</td>\n",
       "      <td>1.8</td>\n",
       "      <td>...</td>\n",
       "      <td>3.90</td>\n",
       "      <td>4.35</td>\n",
       "      <td>12.81</td>\n",
       "      <td>19.2</td>\n",
       "      <td>100.19</td>\n",
       "      <td>31</td>\n",
       "      <td>22.12</td>\n",
       "      <td>82.5</td>\n",
       "      <td>368.0</td>\n",
       "      <td>104.0</td>\n",
       "    </tr>\n",
       "    <tr>\n",
       "      <th>3</th>\n",
       "      <td>6</td>\n",
       "      <td>DeMarcus Cousins</td>\n",
       "      <td>C</td>\n",
       "      <td>26</td>\n",
       "      <td>34.2</td>\n",
       "      <td>9.0</td>\n",
       "      <td>19.9</td>\n",
       "      <td>0.452</td>\n",
       "      <td>1.8</td>\n",
       "      <td>5.0</td>\n",
       "      <td>...</td>\n",
       "      <td>0.64</td>\n",
       "      <td>4.20</td>\n",
       "      <td>11.26</td>\n",
       "      <td>17.8</td>\n",
       "      <td>97.11</td>\n",
       "      <td>30</td>\n",
       "      <td>16.96</td>\n",
       "      <td>1625.5</td>\n",
       "      <td>102.0</td>\n",
       "      <td>91.5</td>\n",
       "    </tr>\n",
       "    <tr>\n",
       "      <th>4</th>\n",
       "      <td>7</td>\n",
       "      <td>Damian Lillard</td>\n",
       "      <td>PG</td>\n",
       "      <td>26</td>\n",
       "      <td>35.9</td>\n",
       "      <td>8.8</td>\n",
       "      <td>19.8</td>\n",
       "      <td>0.444</td>\n",
       "      <td>2.9</td>\n",
       "      <td>7.7</td>\n",
       "      <td>...</td>\n",
       "      <td>-1.49</td>\n",
       "      <td>3.14</td>\n",
       "      <td>10.72</td>\n",
       "      <td>15.9</td>\n",
       "      <td>99.68</td>\n",
       "      <td>38</td>\n",
       "      <td>24.33</td>\n",
       "      <td>1830.5</td>\n",
       "      <td>186.5</td>\n",
       "      <td>43.0</td>\n",
       "    </tr>\n",
       "  </tbody>\n",
       "</table>\n",
       "<p>5 rows × 41 columns</p>\n",
       "</div>"
      ],
      "text/plain": [
       "   Rk             PLAYER POSITION  AGE    MP    FG   FGA    FG%   3P  3PA  \\\n",
       "0   1  Russell Westbrook       PG   28  34.6  10.2  24.0  0.425  2.5  7.2   \n",
       "1   2       James Harden       PG   27  36.4   8.3  18.9  0.440  3.2  9.3   \n",
       "2   4      Anthony Davis        C   23  36.1  10.3  20.3  0.505  0.5  1.8   \n",
       "3   6   DeMarcus Cousins        C   26  34.2   9.0  19.9  0.452  1.8  5.0   \n",
       "4   7     Damian Lillard       PG   26  35.9   8.8  19.8  0.444  2.9  7.7   \n",
       "\n",
       "           ...            DRPM   RPM  WINS_RPM   PIE    PACE   W  \\\n",
       "0          ...           -0.47  6.27     17.34  23.0  102.31  46   \n",
       "1          ...           -1.57  4.81     15.54  19.0  102.98  54   \n",
       "2          ...            3.90  4.35     12.81  19.2  100.19  31   \n",
       "3          ...            0.64  4.20     11.26  17.8   97.11  30   \n",
       "4          ...           -1.49  3.14     10.72  15.9   99.68  38   \n",
       "\n",
       "   SALARY_MILLIONS  PAGEVIEWS  TWITTER_FAVORITE_COUNT  TWITTER_RETWEET_COUNT  \n",
       "0            26.50     4279.0                  2130.5                  559.0  \n",
       "1            26.50     3279.0                   969.0                  321.5  \n",
       "2            22.12       82.5                   368.0                  104.0  \n",
       "3            16.96     1625.5                   102.0                   91.5  \n",
       "4            24.33     1830.5                   186.5                   43.0  \n",
       "\n",
       "[5 rows x 41 columns]"
      ]
     },
     "execution_count": 34,
     "metadata": {},
     "output_type": "execute_result"
    }
   ],
   "source": [
    "nba_players_with_salary_wiki_twitter_df.head()"
   ]
  },
  {
   "cell_type": "code",
   "execution_count": 35,
   "metadata": {
    "_cell_guid": "919ad111-8e3d-439c-bc1b-1541fcd9aa7c",
    "_execution_state": "idle",
    "_uuid": "18a92c6b1d8c974e6142d012d0af3a4edd57a293"
   },
   "outputs": [
    {
     "data": {
      "text/plain": [
       "<matplotlib.axes._subplots.AxesSubplot at 0x7f4c762d72e8>"
      ]
     },
     "execution_count": 35,
     "metadata": {},
     "output_type": "execute_result"
    },
    {
     "data": {
      "image/png": "[encoded data removed]",
      "text/plain": [
       "<matplotlib.figure.Figure at 0x7f4c762d74a8>"
      ]
     },
     "metadata": {},
     "output_type": "display_data"
    }
   ],
   "source": [
    "\n",
    "plt.subplots(figsize=(20,15))\n",
    "ax = plt.axes()\n",
    "ax.set_title(\"NBA Player Correlation Heatmap:  2016-2017 Season (STATS & SALARY & TWITTER & WIKIPEDIA)\")\n",
    "corr = nba_players_with_salary_wiki_twitter_df.corr()\n",
    "sns.heatmap(corr, \n",
    "            xticklabels=corr.columns.values,\n",
    "            yticklabels=corr.columns.values)"
   ]
  },
  {
   "cell_type": "code",
   "execution_count": 36,
   "metadata": {
    "_cell_guid": "aa450df3-e6aa-4796-a358-addbfdec4b70",
    "_execution_state": "idle",
    "_uuid": "0d294cee4c45adb46a21ff9b7c11fedd58a7c0b8"
   },
   "outputs": [
    {
     "data": {
      "image/png": "[encoded data removed]",
      "text/plain": [
       "<matplotlib.figure.Figure at 0x7f4c761e4160>"
      ]
     },
     "metadata": {},
     "output_type": "display_data"
    }
   ],
   "source": [
    "plt.scatter(nba_players_with_salary_df['RPM'],nba_players_with_salary_df['PIE'])\n",
    "plt.show()"
   ]
  },
  {
   "cell_type": "code",
   "execution_count": 37,
   "metadata": {},
   "outputs": [
    {
     "data": {
      "image/png": "[encoded data removed]",
      "text/plain": [
       "<matplotlib.figure.Figure at 0x7f4c7629a048>"
      ]
     },
     "metadata": {},
     "output_type": "display_data"
    }
   ],
   "source": [
    "plt.scatter(nba_players_with_salary_df['RPM'],nba_players_with_salary_df['SALARY_MILLIONS'])\n",
    "plt.show()"
   ]
  },
  {
   "cell_type": "code",
   "execution_count": 38,
   "metadata": {},
   "outputs": [
    {
     "data": {
      "image/png": "[encoded data removed]",
      "text/plain": [
       "<matplotlib.figure.Figure at 0x7f4c7610f400>"
      ]
     },
     "metadata": {},
     "output_type": "display_data"
    }
   ],
   "source": [
    "plt.scatter(nba_players_with_salary_df['W'],nba_players_with_salary_df['SALARY_MILLIONS'])\n",
    "plt.show()"
   ]
  },
  {
   "cell_type": "code",
   "execution_count": 39,
   "metadata": {},
   "outputs": [
    {
     "data": {
      "image/png": "[encoded data removed]",
      "text/plain": [
       "<matplotlib.figure.Figure at 0x7f4c760ee390>"
      ]
     },
     "metadata": {},
     "output_type": "display_data"
    }
   ],
   "source": [
    "plt.scatter(nba_players_with_salary_df['RPM'],nba_players_with_salary_df['W'])\n",
    "plt.show()"
   ]
  },
  {
   "cell_type": "code",
   "execution_count": 40,
   "metadata": {},
   "outputs": [
    {
     "data": {
      "image/png": "[encoded data removed]",
      "text/plain": [
       "<matplotlib.figure.Figure at 0x7f4c76047a90>"
      ]
     },
     "metadata": {},
     "output_type": "display_data"
    }
   ],
   "source": [
    "plt.scatter(nba_players_with_salary_df['WINS_RPM'],nba_players_with_salary_df['W'])\n",
    "plt.show()"
   ]
  },
  {
   "cell_type": "code",
   "execution_count": 41,
   "metadata": {},
   "outputs": [
    {
     "name": "stdout",
     "output_type": "stream",
     "text": [
      "                            OLS Regression Results                            \n",
      "==============================================================================\n",
      "Dep. Variable:               WINS_RPM   R-squared:                       0.875\n",
      "Model:                            OLS   Adj. R-squared:                  0.874\n",
      "Method:                 Least Squares   F-statistic:                     1184.\n",
      "Date:                Fri, 19 Jan 2018   Prob (F-statistic):          1.23e-153\n",
      "Time:                        00:45:51   Log-Likelihood:                -593.34\n",
      "No. Observations:                 342   AIC:                             1193.\n",
      "Df Residuals:                     339   BIC:                             1204.\n",
      "Df Model:                           2                                         \n",
      "Covariance Type:            nonrobust                                         \n",
      "==============================================================================\n",
      "                 coef    std err          t      P>|t|      [0.025      0.975]\n",
      "------------------------------------------------------------------------------\n",
      "Intercept      2.5941      0.197     13.176      0.000       2.207       2.981\n",
      "RPM            1.3109      0.034     38.605      0.000       1.244       1.378\n",
      "W              0.0401      0.006      6.841      0.000       0.029       0.052\n",
      "==============================================================================\n",
      "Omnibus:                       14.369   Durbin-Watson:                   1.384\n",
      "Prob(Omnibus):                  0.001   Jarque-Bera (JB):               25.430\n",
      "Skew:                           0.239   Prob(JB):                     3.01e-06\n",
      "Kurtosis:                       4.247   Cond. No.                         86.1\n",
      "==============================================================================\n",
      "\n",
      "Warnings:\n",
      "[1] Standard Errors assume that the covariance matrix of the errors is correctly specified.\n"
     ]
    }
   ],
   "source": [
    "results = smf.ols('WINS_RPM ~RPM + W', data=nba_players_with_salary_df).fit()\n",
    "print(results.summary())"
   ]
  },
  {
   "cell_type": "code",
   "execution_count": 42,
   "metadata": {
    "collapsed": true
   },
   "outputs": [],
   "source": []
  }
 ],
 "metadata": {
  "kernelspec": {
   "display_name": "Python 3",
   "language": "python",
   "name": "python3"
  },
  "language_info": {
   "codemirror_mode": {
    "name": "ipython",
    "version": 3
   },
   "file_extension": ".py",
   "mimetype": "text/x-python",
   "name": "python",
   "nbconvert_exporter": "python",
   "pygments_lexer": "ipython3",
   "version": "3.6.4"
  }
 },
 "nbformat": 4,
 "nbformat_minor": 1
}
